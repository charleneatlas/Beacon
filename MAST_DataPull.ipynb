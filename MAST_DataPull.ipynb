{
 "cells": [
  {
   "cell_type": "code",
   "execution_count": 1,
   "id": "31f117eb",
   "metadata": {},
   "outputs": [
    {
     "name": "stdout",
     "output_type": "stream",
     "text": [
      "Found 541 planets in 121 multi-planet systems (more than 3 planets)\n",
      "     hostname st_spectype   pl_name  planet_order    pl_orbper  pl_rade  \\\n",
      "4925   55 Cnc         G8V  55 Cnc e             1     0.736547    1.875   \n",
      "3720   55 Cnc         G8V  55 Cnc b             2    14.651600   13.900   \n",
      "512    55 Cnc         G8V  55 Cnc c             3    44.398900    8.510   \n",
      "3726   55 Cnc         G8V  55 Cnc f             4   259.880000    7.590   \n",
      "4923   55 Cnc         G8V  55 Cnc d             5  5574.200000   13.000   \n",
      "\n",
      "            pl_type           disc_facility  \n",
      "4925    Super-Earth    McDonald Observatory  \n",
      "3720  Super Jupiter        Lick Observatory  \n",
      "512       Gas Giant    McDonald Observatory  \n",
      "3726      Gas Giant  Multiple Observatories  \n",
      "4923      Gas Giant        Lick Observatory  \n"
     ]
    }
   ],
   "source": [
    "#from astroquery.nasa_exoplanet_archive import NasaExoplanetArchive\n",
    "from astroquery.ipac.nexsci.nasa_exoplanet_archive import NasaExoplanetArchive\n",
    "import pandas as pd\n",
    "\n",
    "# Query confirmed planets discovered\n",
    "results = NasaExoplanetArchive.query_criteria(\n",
    "    table=\"pscomppars\",\n",
    "    select=\"pl_name,hostname, st_spectype, pl_orbper,pl_rade,disc_facility\"\n",
    ")\n",
    "\n",
    "# Convert to pandas DataFrame\n",
    "df = results.to_pandas()\n",
    "\n",
    "# Count planets per system using correct 'hostname' field\n",
    "host_counts = df['hostname'].value_counts()\n",
    "multi_hosts = host_counts[host_counts > 3].index\n",
    "multi_df = df[df['hostname'].isin(multi_hosts)]\n",
    "\n",
    "# Sort and assign planet order\n",
    "multi_df = multi_df.sort_values(['hostname', 'pl_orbper'])\n",
    "multi_df['planet_order'] = multi_df.groupby('hostname').cumcount() + 1\n",
    "\n",
    "#Make a new column classifying each planet\n",
    "def classify_planetType(planetERadii):\n",
    "    if pd.isna(planetERadii):\n",
    "        return 'Unknown'\n",
    "    elif planetERadii > 13:\n",
    "        return 'Super Jupiter'\n",
    "    elif planetERadii > 6:\n",
    "        return 'Gas Giant'\n",
    "    elif planetERadii > 4:\n",
    "        return 'Neptune-Like'\n",
    "    elif planetERadii > 2:\n",
    "        return 'Mini-Neptune'\n",
    "    elif planetERadii > 1.25:\n",
    "        return 'Super-Earth'\n",
    "    elif planetERadii > 0.8:\n",
    "        return 'Terran'\n",
    "    else:\n",
    "        return 'Subterran'\n",
    "\n",
    "multi_df['pl_type'] = multi_df['pl_rade'].apply(classify_planetType)\n",
    "\n",
    "# Reformat columns\n",
    "final_df = multi_df[['hostname', 'st_spectype', 'pl_name', 'planet_order', 'pl_orbper', 'pl_rade', 'pl_type', 'disc_facility']]\n",
    "\n",
    "# Show results\n",
    "print(f\"Found {len(final_df)} planets in {final_df['hostname'].nunique()} multi-planet systems (more than 3 planets)\")\n",
    "print(final_df.head())\n"
   ]
  },
  {
   "cell_type": "code",
   "execution_count": 2,
   "id": "28f87af7",
   "metadata": {},
   "outputs": [],
   "source": [
    "df_sorted = multi_df.sort_values(['hostname', 'planet_order'])\n",
    "# Combine the sequence of planet types for each system into one string\n",
    "pattern_df = df_sorted.groupby('hostname')['pl_type'].apply(lambda x: '>'.join(x)).reset_index()\n",
    "pattern_df.rename(columns={'pl_type': 'planet_type_sequence'}, inplace=True)\n"
   ]
  },
  {
   "cell_type": "code",
   "execution_count": 3,
   "id": "987aaed3",
   "metadata": {},
   "outputs": [
    {
     "name": "stdout",
     "output_type": "stream",
     "text": [
      "         hostname                               planet_type_sequence\n",
      "0          55 Cnc  Super-Earth>Super Jupiter>Gas Giant>Gas Giant>...\n",
      "1  Barnard's star            Subterran>Subterran>Subterran>Subterran\n",
      "2          DMPP-1  Super-Earth>Super-Earth>Mini-Neptune>Neptune-Like\n",
      "3         GJ 3293  Super-Earth>Neptune-Like>Mini-Neptune>Neptune-...\n",
      "4        GJ 667 C  Mini-Neptune>Super-Earth>Super-Earth>Super-Ear...\n"
     ]
    }
   ],
   "source": [
    "print(pattern_df.head()) "
   ]
  },
  {
   "cell_type": "code",
   "execution_count": 4,
   "id": "02aa8cfe",
   "metadata": {},
   "outputs": [
    {
     "name": "stdout",
     "output_type": "stream",
     "text": [
      "                                planet_type_sequence  num_systems\n",
      "0  Super-Earth>Mini-Neptune>Mini-Neptune>Mini-Nep...           13\n",
      "1  Super-Earth>Mini-Neptune>Mini-Neptune>Mini-Nep...            4\n",
      "2         Terran>Super-Earth>Super-Earth>Super-Earth            4\n",
      "3  Super-Earth>Mini-Neptune>Mini-Neptune>Super-Earth            3\n",
      "4  Mini-Neptune>Mini-Neptune>Mini-Neptune>Mini-Ne...            3\n"
     ]
    }
   ],
   "source": [
    "pattern_counts = pattern_df['planet_type_sequence'].value_counts().reset_index()\n",
    "pattern_counts.columns = ['planet_type_sequence', 'num_systems']\n",
    "\n",
    "print(pattern_counts.head())"
   ]
  },
  {
   "cell_type": "code",
   "execution_count": 5,
   "id": "02de5639",
   "metadata": {},
   "outputs": [
    {
     "name": "stdout",
     "output_type": "stream",
     "text": [
      "                                 planet_type_sequence  num_systems\n",
      "0   Super-Earth>Mini-Neptune>Mini-Neptune>Mini-Nep...           13\n",
      "1   Super-Earth>Mini-Neptune>Mini-Neptune>Mini-Nep...            4\n",
      "2          Terran>Super-Earth>Super-Earth>Super-Earth            4\n",
      "3   Super-Earth>Mini-Neptune>Mini-Neptune>Super-Earth            3\n",
      "4   Mini-Neptune>Mini-Neptune>Mini-Neptune>Mini-Ne...            3\n",
      "5       Terran>Mini-Neptune>Mini-Neptune>Mini-Neptune            3\n",
      "6               Terran>Terran>Super-Earth>Super-Earth            2\n",
      "7         Terran>Super-Earth>Mini-Neptune>Super-Earth            2\n",
      "8             Terran>Mini-Neptune>Terran>Mini-Neptune            2\n",
      "9   Super-Earth>Super-Earth>Mini-Neptune>Mini-Nept...            2\n",
      "10  Super-Earth>Super-Earth>Super-Earth>Mini-Neptu...            2\n",
      "11   Super-Earth>Super-Earth>Mini-Neptune>Super-Earth            2\n",
      "12         Super-Earth>Super-Earth>Terran>Super-Earth            2\n",
      "13  Super-Earth>Mini-Neptune>Neptune-Like>Neptune-...            2\n",
      "14   Mini-Neptune>Mini-Neptune>Gas Giant>Mini-Neptune            2\n",
      "15  Super-Earth>Super-Earth>Mini-Neptune>Mini-Neptune            2\n"
     ]
    }
   ],
   "source": [
    "# Only show planet type sequences shared by more than one system\n",
    "common_patterns = pattern_counts[pattern_counts['num_systems'] > 1]\n",
    "print(common_patterns)\n"
   ]
  },
  {
   "cell_type": "code",
   "execution_count": 6,
   "id": "3281273d",
   "metadata": {},
   "outputs": [
    {
     "name": "stdout",
     "output_type": "stream",
     "text": [
      "50\n"
     ]
    }
   ],
   "source": [
    "total = common_patterns['num_systems'].sum()\n",
    "print(total)"
   ]
  },
  {
   "cell_type": "code",
   "execution_count": 7,
   "id": "2b8b3817",
   "metadata": {},
   "outputs": [
    {
     "name": "stdout",
     "output_type": "stream",
     "text": [
      "        hostname                               planet_type_sequence\n",
      "8      HD 108236  Super-Earth>Mini-Neptune>Mini-Neptune>Mini-Nep...\n",
      "12     HD 158259  Super-Earth>Mini-Neptune>Mini-Neptune>Mini-Nep...\n",
      "16      HD 20781      Terran>Mini-Neptune>Mini-Neptune>Mini-Neptune\n",
      "17      HD 20794  Super-Earth>Mini-Neptune>Mini-Neptune>Mini-Nep...\n",
      "18     HD 215152              Terran>Terran>Super-Earth>Super-Earth\n",
      "21       HD 3167  Super-Earth>Super-Earth>Mini-Neptune>Mini-Neptune\n",
      "23      HD 40307  Super-Earth>Mini-Neptune>Mini-Neptune>Mini-Nep...\n",
      "26        K2-133   Super-Earth>Super-Earth>Mini-Neptune>Super-Earth\n",
      "28        K2-187        Terran>Super-Earth>Mini-Neptune>Super-Earth\n",
      "30        K2-268  Super-Earth>Super-Earth>Super-Earth>Mini-Neptu...\n",
      "39    Kepler-106            Terran>Mini-Neptune>Terran>Mini-Neptune\n",
      "45   Kepler-1388  Mini-Neptune>Mini-Neptune>Mini-Neptune>Mini-Ne...\n",
      "48    Kepler-154  Super-Earth>Super-Earth>Mini-Neptune>Mini-Nept...\n",
      "53    Kepler-172  Mini-Neptune>Mini-Neptune>Mini-Neptune>Mini-Ne...\n",
      "54    Kepler-176  Super-Earth>Mini-Neptune>Mini-Neptune>Super-Earth\n",
      "57   Kepler-1987        Terran>Super-Earth>Mini-Neptune>Super-Earth\n",
      "59    Kepler-208         Super-Earth>Super-Earth>Terran>Super-Earth\n",
      "60    Kepler-215   Super-Earth>Super-Earth>Mini-Neptune>Super-Earth\n",
      "62    Kepler-221  Super-Earth>Mini-Neptune>Mini-Neptune>Mini-Nep...\n",
      "64    Kepler-224  Super-Earth>Mini-Neptune>Mini-Neptune>Super-Earth\n",
      "67     Kepler-24  Super-Earth>Mini-Neptune>Mini-Neptune>Mini-Nep...\n",
      "68    Kepler-245  Super-Earth>Mini-Neptune>Mini-Neptune>Mini-Nep...\n",
      "69    Kepler-251  Super-Earth>Mini-Neptune>Mini-Neptune>Mini-Nep...\n",
      "70    Kepler-256  Super-Earth>Mini-Neptune>Mini-Neptune>Mini-Nep...\n",
      "71     Kepler-26      Terran>Mini-Neptune>Mini-Neptune>Mini-Neptune\n",
      "72    Kepler-265  Super-Earth>Mini-Neptune>Mini-Neptune>Mini-Nep...\n",
      "75    Kepler-286         Terran>Super-Earth>Super-Earth>Super-Earth\n",
      "76    Kepler-289   Mini-Neptune>Mini-Neptune>Gas Giant>Mini-Neptune\n",
      "77    Kepler-292  Super-Earth>Super-Earth>Mini-Neptune>Mini-Nept...\n",
      "80    Kepler-304      Terran>Mini-Neptune>Mini-Neptune>Mini-Neptune\n",
      "81    Kepler-305  Super-Earth>Mini-Neptune>Mini-Neptune>Mini-Nep...\n",
      "82    Kepler-306  Super-Earth>Mini-Neptune>Mini-Neptune>Mini-Nep...\n",
      "84    Kepler-324            Terran>Mini-Neptune>Terran>Mini-Neptune\n",
      "85     Kepler-33  Super-Earth>Mini-Neptune>Neptune-Like>Neptune-...\n",
      "86    Kepler-338  Super-Earth>Mini-Neptune>Mini-Neptune>Mini-Nep...\n",
      "87    Kepler-341         Terran>Super-Earth>Super-Earth>Super-Earth\n",
      "90    Kepler-402         Terran>Super-Earth>Super-Earth>Super-Earth\n",
      "94     Kepler-49  Super-Earth>Mini-Neptune>Mini-Neptune>Super-Earth\n",
      "96     Kepler-55  Super-Earth>Super-Earth>Super-Earth>Mini-Neptu...\n",
      "97     Kepler-58  Super-Earth>Mini-Neptune>Mini-Neptune>Mini-Nep...\n",
      "101   Kepler-758  Super-Earth>Super-Earth>Mini-Neptune>Mini-Neptune\n",
      "102    Kepler-79   Mini-Neptune>Mini-Neptune>Gas Giant>Mini-Neptune\n",
      "104    Kepler-82  Super-Earth>Mini-Neptune>Neptune-Like>Neptune-...\n",
      "105    Kepler-84  Super-Earth>Mini-Neptune>Mini-Neptune>Mini-Nep...\n",
      "106    Kepler-85         Super-Earth>Super-Earth>Terran>Super-Earth\n",
      "107      L 98-59         Terran>Super-Earth>Super-Earth>Super-Earth\n",
      "109     TOI-1246  Mini-Neptune>Mini-Neptune>Mini-Neptune>Mini-Ne...\n",
      "111     TOI-2076  Super-Earth>Mini-Neptune>Mini-Neptune>Mini-Nep...\n",
      "114      TOI-561  Super-Earth>Mini-Neptune>Mini-Neptune>Mini-Nep...\n",
      "120      tau Cet              Terran>Terran>Super-Earth>Super-Earth\n",
      "hostname                50\n",
      "planet_type_sequence    50\n",
      "dtype: int64\n"
     ]
    }
   ],
   "source": [
    "df_with_common_patterns = pattern_df[pattern_df['planet_type_sequence'].isin(common_patterns['planet_type_sequence'])]\n",
    "print(df_with_common_patterns[:50])\n",
    "print(df_with_common_patterns.count())\n",
    "\n",
    "#print(set(pattern_df['planet_type_sequence']) & set(common_patterns['planet_type_sequence']))\n"
   ]
  }
 ],
 "metadata": {
  "kernelspec": {
   "display_name": "Python 3",
   "language": "python",
   "name": "python3"
  },
  "language_info": {
   "codemirror_mode": {
    "name": "ipython",
    "version": 3
   },
   "file_extension": ".py",
   "mimetype": "text/x-python",
   "name": "python",
   "nbconvert_exporter": "python",
   "pygments_lexer": "ipython3",
   "version": "3.13.5"
  }
 },
 "nbformat": 4,
 "nbformat_minor": 5
}
