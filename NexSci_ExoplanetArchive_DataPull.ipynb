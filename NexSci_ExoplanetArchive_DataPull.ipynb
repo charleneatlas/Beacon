{
 "cells": [
  {
   "cell_type": "markdown",
   "id": "9aa4fb5a",
   "metadata": {},
   "source": [
    "### NexSci / NASA Exoplanet Archive Info\n",
    "\n",
    "- [TAP User Guide](https://exoplanetarchive.ipac.caltech.edu/docs/TAP/usingTAP.html)\n",
    "- [API Examples](https://exoplanetarchive.ipac.caltech.edu/docs/program_interfaces.html)\n",
    "- [Table Schema](https://exoplanetarchive.ipac.caltech.edu/docs/API_PS_columns.html)\n",
    "\n",
    "Tables to pull from\n",
    "- [PSCompPars](https://exoplanetarchive.ipac.caltech.edu/cgi-bin/TblView/nph-tblView?app=ExoTbls&config=PSCompPars)\n"
   ]
  },
  {
   "cell_type": "code",
   "execution_count": 11,
   "id": "94239a4d",
   "metadata": {},
   "outputs": [
    {
     "name": "stdout",
     "output_type": "stream",
     "text": [
      "[{'pl_name': 'HD 108236 c', 'pl_rade': 2.071, 'pl_bmasse': 4.94}]\n"
     ]
    }
   ],
   "source": [
    "import requests\n",
    "\n",
    "url = \"https://exoplanetarchive.ipac.caltech.edu/TAP/sync\"\n",
    "query = \"select pl_name, pl_rade, pl_bmasse from pscomppars where pl_name='HD 108236 c'\"\n",
    "params = {\"query\": query, \"format\": \"json\"}\n",
    "\n",
    "response = requests.get(url, params=params)\n",
    "planet_data = response.json()\n",
    "\n",
    "print(planet_data)\n"
   ]
  },
  {
   "cell_type": "code",
   "execution_count": 12,
   "id": "22a788b6",
   "metadata": {},
   "outputs": [
    {
     "name": "stdout",
     "output_type": "stream",
     "text": [
      "       hostname       pl_name  pl_rade  pl_bmasse  pl_orbper\n",
      "0    Kepler-235  Kepler-235 e     2.22       5.56  46.183669\n",
      "1    Kepler-279  Kepler-279 c     4.30      49.40  35.736000\n",
      "2    Kepler-251  Kepler-251 d     2.77       8.10  30.133001\n",
      "3      HD 23472    HD 23472 d     0.75       0.55   3.976640\n",
      "4    Kepler-279  Kepler-279 d     3.10      37.50  54.414000\n",
      "..          ...           ...      ...        ...        ...\n",
      "537  Kepler-245  Kepler-245 d     3.03      21.60  36.277108\n",
      "538  Kepler-186  Kepler-186 d     1.40       2.54  13.342996\n",
      "539  Kepler-215  Kepler-215 b     1.62       3.26   9.360672\n",
      "540  Kepler-245  Kepler-245 b     2.57     146.78   7.490190\n",
      "541     KOI-351     KOI-351 c     1.19       1.81   8.719375\n",
      "\n",
      "[542 rows x 5 columns]\n"
     ]
    }
   ],
   "source": [
    "import pandas as pd\n",
    "import requests\n",
    "from io import StringIO\n",
    "\n",
    "# Set up API request\n",
    "url = \"https://exoplanetarchive.ipac.caltech.edu/TAP/sync\"\n",
    "query = \"select hostname, pl_name, pl_rade, pl_bmasse, pl_orbper from pscomppars where sy_pnum > 3\"\n",
    "params = {\"query\": query, \"format\": \"csv\"}\n",
    "\n",
    "# Make the request\n",
    "response = requests.get(url, params=params)\n",
    "\n",
    "# Read CSV content into DataFrame\n",
    "df = pd.read_csv(StringIO(response.text))\n",
    "\n",
    "print(df)\n"
   ]
  },
  {
   "cell_type": "code",
   "execution_count": 13,
   "id": "fbd2138d",
   "metadata": {},
   "outputs": [
    {
     "name": "stdout",
     "output_type": "stream",
     "text": [
      "Found 542 planets in 122 multi-planet systems (more than 3 planets)\n",
      "    hostname   pl_name  planet_order    pl_orbper  pl_rade  pl_bmasse  \\\n",
      "439   55 Cnc  55 Cnc e             1     0.736547    1.875     7.9900   \n",
      "344   55 Cnc  55 Cnc b             2    14.651600   13.900   263.9785   \n",
      "56    55 Cnc  55 Cnc c             3    44.398900    8.510    54.4738   \n",
      "345   55 Cnc  55 Cnc f             4   259.880000    7.590    44.8120   \n",
      "438   55 Cnc  55 Cnc d             5  5574.200000   13.000  1232.4930   \n",
      "\n",
      "          pl_type  \n",
      "439   Super-Earth  \n",
      "344     Gas Giant  \n",
      "56   Neptune-like  \n",
      "345  Neptune-like  \n",
      "438   Brown Dwarf  \n"
     ]
    }
   ],
   "source": [
    "# Sort and assign planet order\n",
    "multi_df = df.sort_values(['hostname', 'pl_orbper'])\n",
    "multi_df['planet_order'] = multi_df.groupby('hostname').cumcount() + 1\n",
    "\n",
    "#Make a new column classifying each planet\n",
    "def classify_planet(mass, radius):\n",
    "    if mass is None or radius is None:\n",
    "        return \"Unknown\"\n",
    "\n",
    "    # Override for well-known sub-Neptune radius range\n",
    "    if 1.9 < radius < 2.9 and mass < 20:\n",
    "        return \"sub-Neptune\"\n",
    "\n",
    "    # Mass-based logic\n",
    "    if mass < 2:\n",
    "        if radius <= 1.6:\n",
    "            return \"Terrestrial\"\n",
    "        else:\n",
    "            return \"Low-mass sub-Neptune\"\n",
    "    elif mass < 10:\n",
    "        return \"Super-Earth\"\n",
    "    elif mass < 60:\n",
    "        return \"Neptune-like\"\n",
    "    elif mass < 300:\n",
    "        return \"Gas Giant\"\n",
    "    else:\n",
    "        return \"Brown Dwarf\"\n",
    "\n",
    "\n",
    "multi_df['pl_type'] = multi_df.apply(\n",
    "    lambda row: classify_planet(row['pl_bmasse'], row['pl_rade']), axis=1\n",
    ")\n",
    "\n",
    "# Reformat columns\n",
    "final_df = multi_df[['hostname', 'pl_name', 'planet_order', 'pl_orbper', 'pl_rade', 'pl_bmasse', 'pl_type']]\n",
    "\n",
    "# Show results\n",
    "print(f\"Found {len(final_df)} planets in {final_df['hostname'].nunique()} multi-planet systems (more than 3 planets)\")\n",
    "print(final_df.head())"
   ]
  },
  {
   "cell_type": "code",
   "execution_count": 14,
   "id": "5d9760b8",
   "metadata": {},
   "outputs": [
    {
     "name": "stdout",
     "output_type": "stream",
     "text": [
      "         hostname                               planet_type_sequence\n",
      "0          55 Cnc  Super-Earth,Gas Giant,Neptune-like,Neptune-lik...\n",
      "1  Barnard's star    Terrestrial,Terrestrial,Terrestrial,Terrestrial\n",
      "2          DMPP-1   Super-Earth,Super-Earth,Super-Earth,Neptune-like\n",
      "3         GJ 3293  Super-Earth,Neptune-like,sub-Neptune,Neptune-like\n",
      "4        GJ 667 C  sub-Neptune,Super-Earth,Super-Earth,Super-Eart...\n"
     ]
    }
   ],
   "source": [
    "df_sorted = final_df.sort_values(['hostname', 'planet_order'])\n",
    "# Combine the sequence of planet types for each system into one string\n",
    "pattern_df = df_sorted.groupby('hostname')['pl_type'].apply(lambda x: ','.join(x)).reset_index()\n",
    "pattern_df.rename(columns={'pl_type': 'planet_type_sequence'}, inplace=True)\n",
    "\n",
    "print(pattern_df.head()) "
   ]
  },
  {
   "cell_type": "code",
   "execution_count": 15,
   "id": "adfbbb3c",
   "metadata": {},
   "outputs": [
    {
     "name": "stdout",
     "output_type": "stream",
     "text": [
      "                                planet_type_sequence  num_systems\n",
      "0    Super-Earth,sub-Neptune,sub-Neptune,sub-Neptune            6\n",
      "1    Super-Earth,Super-Earth,sub-Neptune,sub-Neptune            4\n",
      "2    Terrestrial,sub-Neptune,sub-Neptune,sub-Neptune            3\n",
      "3  Terrestrial,sub-Neptune,Neptune-like,Neptune-like            2\n",
      "4    Terrestrial,Terrestrial,Super-Earth,Super-Earth            2\n"
     ]
    }
   ],
   "source": [
    "pattern_counts = pattern_df['planet_type_sequence'].value_counts().reset_index()\n",
    "pattern_counts.columns = ['planet_type_sequence', 'num_systems']\n",
    "\n",
    "print(pattern_counts.head())"
   ]
  },
  {
   "cell_type": "code",
   "execution_count": 16,
   "id": "c2053338",
   "metadata": {},
   "outputs": [
    {
     "name": "stdout",
     "output_type": "stream",
     "text": [
      "                                 planet_type_sequence  num_systems\n",
      "0     Super-Earth,sub-Neptune,sub-Neptune,sub-Neptune            6\n",
      "1     Super-Earth,Super-Earth,sub-Neptune,sub-Neptune            4\n",
      "2     Terrestrial,sub-Neptune,sub-Neptune,sub-Neptune            3\n",
      "3   Terrestrial,sub-Neptune,Neptune-like,Neptune-like            2\n",
      "4     Terrestrial,Terrestrial,Super-Earth,Super-Earth            2\n",
      "5     Terrestrial,Terrestrial,Terrestrial,Terrestrial            2\n",
      "6       Gas Giant,sub-Neptune,sub-Neptune,Terrestrial            2\n",
      "7     Terrestrial,Super-Earth,Super-Earth,Terrestrial            2\n",
      "8     Super-Earth,Super-Earth,Super-Earth,Super-Earth            2\n",
      "9     Terrestrial,Super-Earth,Terrestrial,Super-Earth            2\n",
      "10    sub-Neptune,sub-Neptune,sub-Neptune,sub-Neptune            2\n",
      "11   Super-Earth,sub-Neptune,Super-Earth,Neptune-like            2\n",
      "12  Super-Earth,Super-Earth,sub-Neptune,Neptune-li...            2\n"
     ]
    }
   ],
   "source": [
    "# Only show planet type sequences shared by more than one system\n",
    "common_patterns = pattern_counts[pattern_counts['num_systems'] > 1]\n",
    "print(common_patterns)"
   ]
  },
  {
   "cell_type": "code",
   "execution_count": 17,
   "id": "0111e0d8",
   "metadata": {},
   "outputs": [
    {
     "name": "stdout",
     "output_type": "stream",
     "text": [
      "33\n"
     ]
    }
   ],
   "source": [
    "total = common_patterns['num_systems'].sum()\n",
    "print(total)"
   ]
  },
  {
   "cell_type": "code",
   "execution_count": 18,
   "id": "0f63d7a9",
   "metadata": {},
   "outputs": [
    {
     "name": "stdout",
     "output_type": "stream",
     "text": [
      "           hostname                               planet_type_sequence\n",
      "1    Barnard's star    Terrestrial,Terrestrial,Terrestrial,Terrestrial\n",
      "10        HD 134606  Super-Earth,Super-Earth,sub-Neptune,Neptune-li...\n",
      "16         HD 20781  Terrestrial,sub-Neptune,Neptune-like,Neptune-like\n",
      "18         HD 20794    Super-Earth,sub-Neptune,sub-Neptune,sub-Neptune\n",
      "19        HD 215152    Terrestrial,Terrestrial,Super-Earth,Super-Earth\n",
      "38       Kepler-100   Super-Earth,sub-Neptune,Super-Earth,Neptune-like\n",
      "44       Kepler-132    Terrestrial,Super-Earth,Super-Earth,Terrestrial\n",
      "45       Kepler-138    Terrestrial,Super-Earth,Super-Earth,Terrestrial\n",
      "46      Kepler-1388    sub-Neptune,sub-Neptune,sub-Neptune,sub-Neptune\n",
      "50      Kepler-1542    Terrestrial,Terrestrial,Terrestrial,Terrestrial\n",
      "54       Kepler-172    sub-Neptune,sub-Neptune,sub-Neptune,sub-Neptune\n",
      "55       Kepler-176      Gas Giant,sub-Neptune,sub-Neptune,Terrestrial\n",
      "58      Kepler-1987    Super-Earth,Super-Earth,sub-Neptune,sub-Neptune\n",
      "62       Kepler-220    Terrestrial,Super-Earth,Terrestrial,Super-Earth\n",
      "63       Kepler-221    Super-Earth,Super-Earth,sub-Neptune,sub-Neptune\n",
      "64       Kepler-223    Super-Earth,Super-Earth,Super-Earth,Super-Earth\n",
      "65       Kepler-224    Super-Earth,Super-Earth,sub-Neptune,sub-Neptune\n",
      "70       Kepler-251    Super-Earth,sub-Neptune,sub-Neptune,sub-Neptune\n",
      "71       Kepler-256    Super-Earth,sub-Neptune,sub-Neptune,sub-Neptune\n",
      "72        Kepler-26    Terrestrial,sub-Neptune,sub-Neptune,sub-Neptune\n",
      "73       Kepler-265    Super-Earth,sub-Neptune,sub-Neptune,sub-Neptune\n",
      "76       Kepler-286    Super-Earth,Super-Earth,Super-Earth,Super-Earth\n",
      "81       Kepler-304    Terrestrial,sub-Neptune,sub-Neptune,sub-Neptune\n",
      "83       Kepler-306    Super-Earth,sub-Neptune,sub-Neptune,sub-Neptune\n",
      "89       Kepler-342    Terrestrial,sub-Neptune,sub-Neptune,sub-Neptune\n",
      "95        Kepler-49      Gas Giant,sub-Neptune,sub-Neptune,Terrestrial\n",
      "99        Kepler-62  Super-Earth,Super-Earth,sub-Neptune,Neptune-li...\n",
      "102      Kepler-758    Super-Earth,Super-Earth,sub-Neptune,sub-Neptune\n",
      "108         L 98-59    Terrestrial,Super-Earth,Terrestrial,Super-Earth\n",
      "110        TOI-1246   Super-Earth,sub-Neptune,Super-Earth,Neptune-like\n",
      "114         TOI-500  Terrestrial,sub-Neptune,Neptune-like,Neptune-like\n",
      "115         TOI-561    Super-Earth,sub-Neptune,sub-Neptune,sub-Neptune\n",
      "121         tau Cet    Terrestrial,Terrestrial,Super-Earth,Super-Earth\n",
      "hostname                33\n",
      "planet_type_sequence    33\n",
      "dtype: int64\n"
     ]
    }
   ],
   "source": [
    "df_with_common_patterns = pattern_df[pattern_df['planet_type_sequence'].isin(common_patterns['planet_type_sequence'])]\n",
    "print(df_with_common_patterns[:50])\n",
    "print(df_with_common_patterns.count())"
   ]
  },
  {
   "cell_type": "code",
   "execution_count": 19,
   "id": "98db0841",
   "metadata": {},
   "outputs": [],
   "source": [
    "import json\n",
    "\n",
    "# Create a list to write to JSON via json.dump(). It will be a list of planet patterns.\n",
    "data = []\n",
    "patternNumber = 1\n",
    "\n",
    "#Create a list of patterns\n",
    "for p in common_patterns['planet_type_sequence']:\n",
    "    # Construct inner dictionary\n",
    "    patternProperties = {\n",
    "        \"name\" : f\"Pattern #{patternNumber}\",\n",
    "        \"pattern\" : p.split('>'), # Key is pattern name, value is an ordered list of the planet categories, made by splitting the sequence string\n",
    "        \"hostnames\" : df_with_common_patterns[df_with_common_patterns['planet_type_sequence'] == p]['hostname'].tolist(), # Which star systems have this pattern\n",
    "        \"hostname_count\": common_patterns[common_patterns['planet_type_sequence'] == p]['num_systems'].tolist()\n",
    "    }\n",
    "\n",
    "    data.append({f\"pattern_{patternNumber}\": patternProperties})\n",
    "    patternNumber += 1\n",
    "\n",
    "# Write to a JSON file\n",
    "filename = \"PatternData_NexSci.json\"\n",
    "with open(filename, 'w') as f:\n",
    "   json.dump(data, f, indent=2)\n",
    "\n"
   ]
  },
  {
   "cell_type": "code",
   "execution_count": 20,
   "id": "686e61b2",
   "metadata": {},
   "outputs": [],
   "source": [
    "import json\n",
    "\n",
    "# Create a list to write to JSON via json.dump(). It will be a list of star systems, including planets.\n",
    "star_system_data = {}\n",
    "\n",
    "#Create a list of star systems\n",
    "for star in df_with_common_patterns['hostname']:\n",
    "    # Construct inner dictionaries\n",
    "\n",
    "    planet_names = final_df[final_df['hostname'] == star]['pl_name'].tolist()\n",
    "    planets = []\n",
    "    for planet_name in planet_names:\n",
    "        planet = {\n",
    "            \"name\" : planet_name,\n",
    "            \"radius\" : final_df[final_df['pl_name'] == planet_name]['pl_rade'].tolist(), # in Earth Radii \n",
    "            \"mass\" : final_df[final_df['pl_name'] == planet_name]['pl_bmasse'].tolist(), # in Earth Masses\n",
    "            \"orbital_period\" : final_df[final_df['pl_name'] == planet_name]['pl_orbper'].tolist(),\n",
    "            \"category\": final_df[final_df['pl_name'] == planet_name]['pl_type'].tolist(),\n",
    "            \"order\": final_df[final_df['pl_name'] == planet_name]['planet_order'].tolist(),\n",
    "        }\n",
    "        planets.append(planet)\n",
    "\n",
    "    star_system_Properties = {\n",
    "        #\"hostname\" : star, # Star name\n",
    "        \"planets\": planets\n",
    "    }\n",
    "\n",
    "    star_system_data[star] = star_system_Properties\n",
    "\n",
    "# Write to a JSON file\n",
    "filename = \"StarSystemData_NexSci.json\"\n",
    "with open(filename, 'w') as f:\n",
    "   json.dump(star_system_data, f, indent=2)"
   ]
  }
 ],
 "metadata": {
  "kernelspec": {
   "display_name": "Python 3",
   "language": "python",
   "name": "python3"
  },
  "language_info": {
   "codemirror_mode": {
    "name": "ipython",
    "version": 3
   },
   "file_extension": ".py",
   "mimetype": "text/x-python",
   "name": "python",
   "nbconvert_exporter": "python",
   "pygments_lexer": "ipython3",
   "version": "3.13.5"
  }
 },
 "nbformat": 4,
 "nbformat_minor": 5
}
